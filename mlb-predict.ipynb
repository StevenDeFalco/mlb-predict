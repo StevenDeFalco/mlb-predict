{
 "cells": [
  {
   "cell_type": "markdown",
   "id": "2dd8593b",
   "metadata": {},
   "source": [
    "# MLB-Predict\n",
    "\n",
    "### In this notebook, I will...\n",
    "* import code from data.py\n",
    "* instantiate an intance of my TeamStats class \n",
    "* collect a range of historical game data from that team\n",
    "* save the historical data to a .xlsx or .csv file\n",
    "* load the historical data into this notebook\n",
    "* prepare the data for training (i.e. strip unnecessary features)\n",
    "* analyze/display the data to inspect for trends\n",
    "* divide data into testing and training sets\n",
    "* build a deep learning model using the keras library\n",
    "* train the model with my data and tune hyperparameters (save model weights)\n",
    "* graph performance of the model on training set\n",
    "* graph performance of the model on testing set\n",
    "* make predictions!"
   ]
  },
  {
   "cell_type": "code",
   "execution_count": null,
   "id": "ecb226f4",
   "metadata": {},
   "outputs": [],
   "source": [
    "from data import TeamStats\n",
    "\n",
    "NYM = TeamStats(\"New York Mets\")\n",
    "ret = NYM.get_data(start_date=\"04/02/2017\", end_date=\"06/24/2023\", file_path=\".data/NYM_2017-June2023.xlsx\")"
   ]
  },
  {
   "cell_type": "code",
   "execution_count": null,
   "id": "c58ca19d",
   "metadata": {},
   "outputs": [],
   "source": []
  }
 ],
 "metadata": {
  "kernelspec": {
   "display_name": "Python 3 (ipykernel)",
   "language": "python",
   "name": "python3"
  },
  "language_info": {
   "codemirror_mode": {
    "name": "ipython",
    "version": 3
   },
   "file_extension": ".py",
   "mimetype": "text/x-python",
   "name": "python",
   "nbconvert_exporter": "python",
   "pygments_lexer": "ipython3",
   "version": "3.10.6"
  }
 },
 "nbformat": 4,
 "nbformat_minor": 5
}
